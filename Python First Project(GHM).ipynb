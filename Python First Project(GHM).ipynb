{
 "cells": [
  {
   "cell_type": "code",
   "execution_count": 2,
   "id": "f8c62692",
   "metadata": {},
   "outputs": [],
   "source": [
    "import pandas as pd\n",
    "import numpy as np"
   ]
  },
  {
   "cell_type": "code",
   "execution_count": 3,
   "id": "8b35bd34",
   "metadata": {
    "scrolled": true
   },
   "outputs": [
    {
     "data": {
      "text/html": [
       "<div>\n",
       "<style scoped>\n",
       "    .dataframe tbody tr th:only-of-type {\n",
       "        vertical-align: middle;\n",
       "    }\n",
       "\n",
       "    .dataframe tbody tr th {\n",
       "        vertical-align: top;\n",
       "    }\n",
       "\n",
       "    .dataframe thead th {\n",
       "        text-align: right;\n",
       "    }\n",
       "</style>\n",
       "<table border=\"1\" class=\"dataframe\">\n",
       "  <thead>\n",
       "    <tr style=\"text-align: right;\">\n",
       "      <th></th>\n",
       "      <th>Country</th>\n",
       "      <th>Year</th>\n",
       "      <th>House Price Index</th>\n",
       "      <th>Rent Index</th>\n",
       "      <th>Affordability Ratio</th>\n",
       "      <th>Mortgage Rate (%)</th>\n",
       "      <th>Inflation Rate (%)</th>\n",
       "      <th>GDP Growth (%)</th>\n",
       "      <th>Population Growth (%)</th>\n",
       "      <th>Urbanization Rate (%)</th>\n",
       "      <th>Construction Index</th>\n",
       "      <th>Random_Code</th>\n",
       "      <th>Seller_Notes</th>\n",
       "    </tr>\n",
       "  </thead>\n",
       "  <tbody>\n",
       "    <tr>\n",
       "      <th>0</th>\n",
       "      <td>United States</td>\n",
       "      <td>2015.0</td>\n",
       "      <td>117.454012</td>\n",
       "      <td>NaN</td>\n",
       "      <td>9.587945</td>\n",
       "      <td>4.493292420985183</td>\n",
       "      <td>NaN</td>\n",
       "      <td>-0.752044</td>\n",
       "      <td>-0.796707</td>\n",
       "      <td>85.985284</td>\n",
       "      <td>118.089201</td>\n",
       "      <td>6560.0</td>\n",
       "      <td>Good</td>\n",
       "    </tr>\n",
       "    <tr>\n",
       "      <th>1</th>\n",
       "      <td>United States</td>\n",
       "      <td>2016.0</td>\n",
       "      <td>150.807258</td>\n",
       "      <td>51.440915</td>\n",
       "      <td>11.729189</td>\n",
       "      <td>5.662213204002109</td>\n",
       "      <td>1.880204</td>\n",
       "      <td>-0.545400</td>\n",
       "      <td>-0.358084</td>\n",
       "      <td>69.127267</td>\n",
       "      <td>111.980515</td>\n",
       "      <td>NaN</td>\n",
       "      <td>NaN</td>\n",
       "    </tr>\n",
       "    <tr>\n",
       "      <th>2</th>\n",
       "      <td>United States</td>\n",
       "      <td>2017.0</td>\n",
       "      <td>123.194502</td>\n",
       "      <td>70.386040</td>\n",
       "      <td>8.506676</td>\n",
       "      <td>2.1974693032602093 percent</td>\n",
       "      <td>2.398940</td>\n",
       "      <td>NaN</td>\n",
       "      <td>0.596245</td>\n",
       "      <td>83.555279</td>\n",
       "      <td>85.973903</td>\n",
       "      <td>4625.0</td>\n",
       "      <td>NaN</td>\n",
       "    </tr>\n",
       "    <tr>\n",
       "      <th>3</th>\n",
       "      <td>NaN</td>\n",
       "      <td>2018.0</td>\n",
       "      <td>131.423444</td>\n",
       "      <td>91.469020</td>\n",
       "      <td>NaN</td>\n",
       "      <td>nan percent</td>\n",
       "      <td>1.608407</td>\n",
       "      <td>NaN</td>\n",
       "      <td>2.321099</td>\n",
       "      <td>88.968961</td>\n",
       "      <td>134.671788</td>\n",
       "      <td>4266.0</td>\n",
       "      <td>Good</td>\n",
       "    </tr>\n",
       "    <tr>\n",
       "      <th>4</th>\n",
       "      <td>United States</td>\n",
       "      <td>2019.0</td>\n",
       "      <td>110.461377</td>\n",
       "      <td>56.837048</td>\n",
       "      <td>NaN</td>\n",
       "      <td>3.700762468698007%</td>\n",
       "      <td>1.293249</td>\n",
       "      <td>1.961415</td>\n",
       "      <td>-0.879640</td>\n",
       "      <td>87.279612</td>\n",
       "      <td>90.702399</td>\n",
       "      <td>3360.0</td>\n",
       "      <td>NaN</td>\n",
       "    </tr>\n",
       "    <tr>\n",
       "      <th>...</th>\n",
       "      <td>...</td>\n",
       "      <td>...</td>\n",
       "      <td>...</td>\n",
       "      <td>...</td>\n",
       "      <td>...</td>\n",
       "      <td>...</td>\n",
       "      <td>...</td>\n",
       "      <td>...</td>\n",
       "      <td>...</td>\n",
       "      <td>...</td>\n",
       "      <td>...</td>\n",
       "      <td>...</td>\n",
       "      <td>...</td>\n",
       "    </tr>\n",
       "    <tr>\n",
       "      <th>295</th>\n",
       "      <td>Russia</td>\n",
       "      <td>NaN</td>\n",
       "      <td>131.481735</td>\n",
       "      <td>75.146336</td>\n",
       "      <td>8.336558</td>\n",
       "      <td>nan percent</td>\n",
       "      <td>3.042030</td>\n",
       "      <td>5.755299</td>\n",
       "      <td>-0.096533</td>\n",
       "      <td>79.702100</td>\n",
       "      <td>96.015205</td>\n",
       "      <td>9212.0</td>\n",
       "      <td>NaN</td>\n",
       "    </tr>\n",
       "    <tr>\n",
       "      <th>296</th>\n",
       "      <td>NaN</td>\n",
       "      <td>2023.0</td>\n",
       "      <td>142.790039</td>\n",
       "      <td>55.723132</td>\n",
       "      <td>10.862208</td>\n",
       "      <td>6.104362002659066 percent</td>\n",
       "      <td>0.897007</td>\n",
       "      <td>0.215021</td>\n",
       "      <td>1.821704</td>\n",
       "      <td>82.447791</td>\n",
       "      <td>84.761682</td>\n",
       "      <td>2576.0</td>\n",
       "      <td>NaN</td>\n",
       "    </tr>\n",
       "    <tr>\n",
       "      <th>297</th>\n",
       "      <td>India</td>\n",
       "      <td>NaN</td>\n",
       "      <td>123.913491</td>\n",
       "      <td>76.386110</td>\n",
       "      <td>7.164118</td>\n",
       "      <td>3.0068893708207103 percent</td>\n",
       "      <td>5.359461</td>\n",
       "      <td>2.021763</td>\n",
       "      <td>NaN</td>\n",
       "      <td>86.987237</td>\n",
       "      <td>100.711298</td>\n",
       "      <td>5067.0</td>\n",
       "      <td>NaN</td>\n",
       "    </tr>\n",
       "    <tr>\n",
       "      <th>298</th>\n",
       "      <td>Russia</td>\n",
       "      <td>2023.0</td>\n",
       "      <td>84.157286</td>\n",
       "      <td>60.384024</td>\n",
       "      <td>11.879671</td>\n",
       "      <td>6.325593482180228%</td>\n",
       "      <td>0.532110</td>\n",
       "      <td>5.614494</td>\n",
       "      <td>1.236920</td>\n",
       "      <td>86.037549</td>\n",
       "      <td>106.379188</td>\n",
       "      <td>4506.0</td>\n",
       "      <td>NaN</td>\n",
       "    </tr>\n",
       "    <tr>\n",
       "      <th>299</th>\n",
       "      <td>Australia</td>\n",
       "      <td>2018.0</td>\n",
       "      <td>116.308230</td>\n",
       "      <td>95.214207</td>\n",
       "      <td>NaN</td>\n",
       "      <td>NaN</td>\n",
       "      <td>6.912349</td>\n",
       "      <td>2.846199</td>\n",
       "      <td>-0.169706</td>\n",
       "      <td>63.053474</td>\n",
       "      <td>82.228731</td>\n",
       "      <td>4061.0</td>\n",
       "      <td>NaN</td>\n",
       "    </tr>\n",
       "  </tbody>\n",
       "</table>\n",
       "<p>300 rows × 13 columns</p>\n",
       "</div>"
      ],
      "text/plain": [
       "           Country    Year  House Price Index  Rent Index  \\\n",
       "0    United States  2015.0         117.454012         NaN   \n",
       "1    United States  2016.0         150.807258   51.440915   \n",
       "2    United States  2017.0         123.194502   70.386040   \n",
       "3              NaN  2018.0         131.423444   91.469020   \n",
       "4    United States  2019.0         110.461377   56.837048   \n",
       "..             ...     ...                ...         ...   \n",
       "295         Russia     NaN         131.481735   75.146336   \n",
       "296            NaN  2023.0         142.790039   55.723132   \n",
       "297          India     NaN         123.913491   76.386110   \n",
       "298         Russia  2023.0          84.157286   60.384024   \n",
       "299      Australia  2018.0         116.308230   95.214207   \n",
       "\n",
       "     Affordability Ratio           Mortgage Rate (%)  Inflation Rate (%)  \\\n",
       "0               9.587945           4.493292420985183                 NaN   \n",
       "1              11.729189           5.662213204002109            1.880204   \n",
       "2               8.506676  2.1974693032602093 percent            2.398940   \n",
       "3                    NaN                 nan percent            1.608407   \n",
       "4                    NaN          3.700762468698007%            1.293249   \n",
       "..                   ...                         ...                 ...   \n",
       "295             8.336558                 nan percent            3.042030   \n",
       "296            10.862208   6.104362002659066 percent            0.897007   \n",
       "297             7.164118  3.0068893708207103 percent            5.359461   \n",
       "298            11.879671          6.325593482180228%            0.532110   \n",
       "299                  NaN                         NaN            6.912349   \n",
       "\n",
       "     GDP Growth (%)  Population Growth (%)  Urbanization Rate (%)  \\\n",
       "0         -0.752044              -0.796707              85.985284   \n",
       "1         -0.545400              -0.358084              69.127267   \n",
       "2               NaN               0.596245              83.555279   \n",
       "3               NaN               2.321099              88.968961   \n",
       "4          1.961415              -0.879640              87.279612   \n",
       "..              ...                    ...                    ...   \n",
       "295        5.755299              -0.096533              79.702100   \n",
       "296        0.215021               1.821704              82.447791   \n",
       "297        2.021763                    NaN              86.987237   \n",
       "298        5.614494               1.236920              86.037549   \n",
       "299        2.846199              -0.169706              63.053474   \n",
       "\n",
       "     Construction Index  Random_Code Seller_Notes  \n",
       "0            118.089201       6560.0         Good  \n",
       "1            111.980515          NaN          NaN  \n",
       "2             85.973903       4625.0          NaN  \n",
       "3            134.671788       4266.0         Good  \n",
       "4             90.702399       3360.0          NaN  \n",
       "..                  ...          ...          ...  \n",
       "295           96.015205       9212.0          NaN  \n",
       "296           84.761682       2576.0          NaN  \n",
       "297          100.711298       5067.0          NaN  \n",
       "298          106.379188       4506.0          NaN  \n",
       "299           82.228731       4061.0          NaN  \n",
       "\n",
       "[300 rows x 13 columns]"
      ]
     },
     "execution_count": 3,
     "metadata": {},
     "output_type": "execute_result"
    }
   ],
   "source": [
    "df=pd.read_csv(\"global_housing_market_dirty.csv\")\n",
    "df"
   ]
  },
  {
   "cell_type": "code",
   "execution_count": 4,
   "id": "830a632c",
   "metadata": {},
   "outputs": [
    {
     "data": {
      "text/plain": [
       "Index(['country', 'year', 'house_price_index', 'rent_index',\n",
       "       'affordability_ratio', 'mortgage_rate_(%)', 'inflation_rate_(%)',\n",
       "       'gdp_growth_(%)', 'population_growth_(%)', 'urbanization_rate_(%)',\n",
       "       'construction_index', 'random_code', 'seller_notes'],\n",
       "      dtype='object')"
      ]
     },
     "execution_count": 4,
     "metadata": {},
     "output_type": "execute_result"
    }
   ],
   "source": [
    "def col(value):\n",
    "    value=value.replace(\" \",\"_\")\n",
    "    value=value.lower()\n",
    "    value=value.strip()\n",
    "    return value\n",
    "df.columns = pd.Series(df.columns).apply(col)\n",
    "df.columns"
   ]
  },
  {
   "cell_type": "code",
   "execution_count": 5,
   "id": "b983b315",
   "metadata": {},
   "outputs": [
    {
     "data": {
      "text/html": [
       "<div>\n",
       "<style scoped>\n",
       "    .dataframe tbody tr th:only-of-type {\n",
       "        vertical-align: middle;\n",
       "    }\n",
       "\n",
       "    .dataframe tbody tr th {\n",
       "        vertical-align: top;\n",
       "    }\n",
       "\n",
       "    .dataframe thead th {\n",
       "        text-align: right;\n",
       "    }\n",
       "</style>\n",
       "<table border=\"1\" class=\"dataframe\">\n",
       "  <thead>\n",
       "    <tr style=\"text-align: right;\">\n",
       "      <th></th>\n",
       "      <th>country</th>\n",
       "      <th>year</th>\n",
       "      <th>house_price_index</th>\n",
       "      <th>rent_index</th>\n",
       "      <th>affordability_ratio</th>\n",
       "      <th>mortgage_rate_(%)</th>\n",
       "      <th>inflation_rate_(%)</th>\n",
       "      <th>gdp_growth_(%)</th>\n",
       "      <th>population_growth_(%)</th>\n",
       "      <th>urbanization_rate_(%)</th>\n",
       "      <th>construction_index</th>\n",
       "    </tr>\n",
       "  </thead>\n",
       "  <tbody>\n",
       "    <tr>\n",
       "      <th>0</th>\n",
       "      <td>United States</td>\n",
       "      <td>2015.0</td>\n",
       "      <td>117.454012</td>\n",
       "      <td>NaN</td>\n",
       "      <td>9.587945</td>\n",
       "      <td>4.493292420985183</td>\n",
       "      <td>NaN</td>\n",
       "      <td>-0.752044</td>\n",
       "      <td>-0.796707</td>\n",
       "      <td>85.985284</td>\n",
       "      <td>118.089201</td>\n",
       "    </tr>\n",
       "    <tr>\n",
       "      <th>1</th>\n",
       "      <td>United States</td>\n",
       "      <td>2016.0</td>\n",
       "      <td>150.807258</td>\n",
       "      <td>51.440915</td>\n",
       "      <td>11.729189</td>\n",
       "      <td>5.662213204002109</td>\n",
       "      <td>1.880204</td>\n",
       "      <td>-0.545400</td>\n",
       "      <td>-0.358084</td>\n",
       "      <td>69.127267</td>\n",
       "      <td>111.980515</td>\n",
       "    </tr>\n",
       "    <tr>\n",
       "      <th>2</th>\n",
       "      <td>United States</td>\n",
       "      <td>2017.0</td>\n",
       "      <td>123.194502</td>\n",
       "      <td>70.386040</td>\n",
       "      <td>8.506676</td>\n",
       "      <td>2.1974693032602093 percent</td>\n",
       "      <td>2.398940</td>\n",
       "      <td>NaN</td>\n",
       "      <td>0.596245</td>\n",
       "      <td>83.555279</td>\n",
       "      <td>85.973903</td>\n",
       "    </tr>\n",
       "    <tr>\n",
       "      <th>3</th>\n",
       "      <td>NaN</td>\n",
       "      <td>2018.0</td>\n",
       "      <td>131.423444</td>\n",
       "      <td>91.469020</td>\n",
       "      <td>NaN</td>\n",
       "      <td>nan percent</td>\n",
       "      <td>1.608407</td>\n",
       "      <td>NaN</td>\n",
       "      <td>2.321099</td>\n",
       "      <td>88.968961</td>\n",
       "      <td>134.671788</td>\n",
       "    </tr>\n",
       "    <tr>\n",
       "      <th>4</th>\n",
       "      <td>United States</td>\n",
       "      <td>2019.0</td>\n",
       "      <td>110.461377</td>\n",
       "      <td>56.837048</td>\n",
       "      <td>NaN</td>\n",
       "      <td>3.700762468698007%</td>\n",
       "      <td>1.293249</td>\n",
       "      <td>1.961415</td>\n",
       "      <td>-0.879640</td>\n",
       "      <td>87.279612</td>\n",
       "      <td>90.702399</td>\n",
       "    </tr>\n",
       "    <tr>\n",
       "      <th>...</th>\n",
       "      <td>...</td>\n",
       "      <td>...</td>\n",
       "      <td>...</td>\n",
       "      <td>...</td>\n",
       "      <td>...</td>\n",
       "      <td>...</td>\n",
       "      <td>...</td>\n",
       "      <td>...</td>\n",
       "      <td>...</td>\n",
       "      <td>...</td>\n",
       "      <td>...</td>\n",
       "    </tr>\n",
       "    <tr>\n",
       "      <th>295</th>\n",
       "      <td>Russia</td>\n",
       "      <td>NaN</td>\n",
       "      <td>131.481735</td>\n",
       "      <td>75.146336</td>\n",
       "      <td>8.336558</td>\n",
       "      <td>nan percent</td>\n",
       "      <td>3.042030</td>\n",
       "      <td>5.755299</td>\n",
       "      <td>-0.096533</td>\n",
       "      <td>79.702100</td>\n",
       "      <td>96.015205</td>\n",
       "    </tr>\n",
       "    <tr>\n",
       "      <th>296</th>\n",
       "      <td>NaN</td>\n",
       "      <td>2023.0</td>\n",
       "      <td>142.790039</td>\n",
       "      <td>55.723132</td>\n",
       "      <td>10.862208</td>\n",
       "      <td>6.104362002659066 percent</td>\n",
       "      <td>0.897007</td>\n",
       "      <td>0.215021</td>\n",
       "      <td>1.821704</td>\n",
       "      <td>82.447791</td>\n",
       "      <td>84.761682</td>\n",
       "    </tr>\n",
       "    <tr>\n",
       "      <th>297</th>\n",
       "      <td>India</td>\n",
       "      <td>NaN</td>\n",
       "      <td>123.913491</td>\n",
       "      <td>76.386110</td>\n",
       "      <td>7.164118</td>\n",
       "      <td>3.0068893708207103 percent</td>\n",
       "      <td>5.359461</td>\n",
       "      <td>2.021763</td>\n",
       "      <td>NaN</td>\n",
       "      <td>86.987237</td>\n",
       "      <td>100.711298</td>\n",
       "    </tr>\n",
       "    <tr>\n",
       "      <th>298</th>\n",
       "      <td>Russia</td>\n",
       "      <td>2023.0</td>\n",
       "      <td>84.157286</td>\n",
       "      <td>60.384024</td>\n",
       "      <td>11.879671</td>\n",
       "      <td>6.325593482180228%</td>\n",
       "      <td>0.532110</td>\n",
       "      <td>5.614494</td>\n",
       "      <td>1.236920</td>\n",
       "      <td>86.037549</td>\n",
       "      <td>106.379188</td>\n",
       "    </tr>\n",
       "    <tr>\n",
       "      <th>299</th>\n",
       "      <td>Australia</td>\n",
       "      <td>2018.0</td>\n",
       "      <td>116.308230</td>\n",
       "      <td>95.214207</td>\n",
       "      <td>NaN</td>\n",
       "      <td>NaN</td>\n",
       "      <td>6.912349</td>\n",
       "      <td>2.846199</td>\n",
       "      <td>-0.169706</td>\n",
       "      <td>63.053474</td>\n",
       "      <td>82.228731</td>\n",
       "    </tr>\n",
       "  </tbody>\n",
       "</table>\n",
       "<p>300 rows × 11 columns</p>\n",
       "</div>"
      ],
      "text/plain": [
       "           country    year  house_price_index  rent_index  \\\n",
       "0    United States  2015.0         117.454012         NaN   \n",
       "1    United States  2016.0         150.807258   51.440915   \n",
       "2    United States  2017.0         123.194502   70.386040   \n",
       "3              NaN  2018.0         131.423444   91.469020   \n",
       "4    United States  2019.0         110.461377   56.837048   \n",
       "..             ...     ...                ...         ...   \n",
       "295         Russia     NaN         131.481735   75.146336   \n",
       "296            NaN  2023.0         142.790039   55.723132   \n",
       "297          India     NaN         123.913491   76.386110   \n",
       "298         Russia  2023.0          84.157286   60.384024   \n",
       "299      Australia  2018.0         116.308230   95.214207   \n",
       "\n",
       "     affordability_ratio           mortgage_rate_(%)  inflation_rate_(%)  \\\n",
       "0               9.587945           4.493292420985183                 NaN   \n",
       "1              11.729189           5.662213204002109            1.880204   \n",
       "2               8.506676  2.1974693032602093 percent            2.398940   \n",
       "3                    NaN                 nan percent            1.608407   \n",
       "4                    NaN          3.700762468698007%            1.293249   \n",
       "..                   ...                         ...                 ...   \n",
       "295             8.336558                 nan percent            3.042030   \n",
       "296            10.862208   6.104362002659066 percent            0.897007   \n",
       "297             7.164118  3.0068893708207103 percent            5.359461   \n",
       "298            11.879671          6.325593482180228%            0.532110   \n",
       "299                  NaN                         NaN            6.912349   \n",
       "\n",
       "     gdp_growth_(%)  population_growth_(%)  urbanization_rate_(%)  \\\n",
       "0         -0.752044              -0.796707              85.985284   \n",
       "1         -0.545400              -0.358084              69.127267   \n",
       "2               NaN               0.596245              83.555279   \n",
       "3               NaN               2.321099              88.968961   \n",
       "4          1.961415              -0.879640              87.279612   \n",
       "..              ...                    ...                    ...   \n",
       "295        5.755299              -0.096533              79.702100   \n",
       "296        0.215021               1.821704              82.447791   \n",
       "297        2.021763                    NaN              86.987237   \n",
       "298        5.614494               1.236920              86.037549   \n",
       "299        2.846199              -0.169706              63.053474   \n",
       "\n",
       "     construction_index  \n",
       "0            118.089201  \n",
       "1            111.980515  \n",
       "2             85.973903  \n",
       "3            134.671788  \n",
       "4             90.702399  \n",
       "..                  ...  \n",
       "295           96.015205  \n",
       "296           84.761682  \n",
       "297          100.711298  \n",
       "298          106.379188  \n",
       "299           82.228731  \n",
       "\n",
       "[300 rows x 11 columns]"
      ]
     },
     "execution_count": 5,
     "metadata": {},
     "output_type": "execute_result"
    }
   ],
   "source": [
    "df.drop(columns=['random_code','seller_notes'],inplace = True)\n",
    "df"
   ]
  },
  {
   "cell_type": "code",
   "execution_count": 6,
   "id": "a27a9072",
   "metadata": {},
   "outputs": [],
   "source": [
    "mrv=df['mortgage_rate_(%)'].str.split() #mrv=mortgage_rate value only\n",
    "df['mortgage_rate_(%)']=mrv.str.get(0)\n",
    "df['mortgage_rate_(%)'] = np.where(df['mortgage_rate_(%)'].str.endswith('%'),df['mortgage_rate_(%)'],df['mortgage_rate_(%)']+'%')\n",
    "df.replace('nan%', np.nan, inplace=True)"
   ]
  },
  {
   "cell_type": "code",
   "execution_count": 7,
   "id": "b220ad2a",
   "metadata": {},
   "outputs": [],
   "source": [
    "df['country'] = df['country'].str.strip()"
   ]
  },
  {
   "cell_type": "code",
   "execution_count": 8,
   "id": "08f7cea1",
   "metadata": {},
   "outputs": [],
   "source": [
    "df=df.dropna(subset=['year', 'country'])"
   ]
  },
  {
   "cell_type": "code",
   "execution_count": 9,
   "id": "1dc57a31",
   "metadata": {},
   "outputs": [
    {
     "name": "stderr",
     "output_type": "stream",
     "text": [
      "C:\\Users\\ahmed\\AppData\\Local\\Temp\\ipykernel_12408\\636920359.py:1: SettingWithCopyWarning: \n",
      "A value is trying to be set on a copy of a slice from a DataFrame\n",
      "\n",
      "See the caveats in the documentation: https://pandas.pydata.org/pandas-docs/stable/user_guide/indexing.html#returning-a-view-versus-a-copy\n",
      "  df.drop(\n"
     ]
    }
   ],
   "source": [
    "df.drop(\n",
    "    index=df[(df.duplicated(subset=['country', 'year'], keep=False)) & (df.isnull().any(axis=1))].index,\n",
    "    inplace=True\n",
    ")"
   ]
  },
  {
   "cell_type": "code",
   "execution_count": 10,
   "id": "adb5ead5",
   "metadata": {},
   "outputs": [
    {
     "name": "stderr",
     "output_type": "stream",
     "text": [
      "C:\\Users\\ahmed\\AppData\\Local\\Temp\\ipykernel_12408\\1397150291.py:1: SettingWithCopyWarning: \n",
      "A value is trying to be set on a copy of a slice from a DataFrame\n",
      "\n",
      "See the caveats in the documentation: https://pandas.pydata.org/pandas-docs/stable/user_guide/indexing.html#returning-a-view-versus-a-copy\n",
      "  df.drop(index=df[df.duplicated(subset=['country', 'year'])].index, inplace=True)\n"
     ]
    },
    {
     "data": {
      "text/html": [
       "<div>\n",
       "<style scoped>\n",
       "    .dataframe tbody tr th:only-of-type {\n",
       "        vertical-align: middle;\n",
       "    }\n",
       "\n",
       "    .dataframe tbody tr th {\n",
       "        vertical-align: top;\n",
       "    }\n",
       "\n",
       "    .dataframe thead th {\n",
       "        text-align: right;\n",
       "    }\n",
       "</style>\n",
       "<table border=\"1\" class=\"dataframe\">\n",
       "  <thead>\n",
       "    <tr style=\"text-align: right;\">\n",
       "      <th></th>\n",
       "      <th>country</th>\n",
       "      <th>year</th>\n",
       "      <th>house_price_index</th>\n",
       "      <th>rent_index</th>\n",
       "      <th>affordability_ratio</th>\n",
       "      <th>mortgage_rate_(%)</th>\n",
       "      <th>inflation_rate_(%)</th>\n",
       "      <th>gdp_growth_(%)</th>\n",
       "      <th>population_growth_(%)</th>\n",
       "      <th>urbanization_rate_(%)</th>\n",
       "      <th>construction_index</th>\n",
       "    </tr>\n",
       "  </thead>\n",
       "  <tbody>\n",
       "    <tr>\n",
       "      <th>0</th>\n",
       "      <td>United States</td>\n",
       "      <td>2015.0</td>\n",
       "      <td>117.454012</td>\n",
       "      <td>NaN</td>\n",
       "      <td>9.587945</td>\n",
       "      <td>4.493292420985183%</td>\n",
       "      <td>NaN</td>\n",
       "      <td>-0.752044</td>\n",
       "      <td>-0.796707</td>\n",
       "      <td>85.985284</td>\n",
       "      <td>118.089201</td>\n",
       "    </tr>\n",
       "    <tr>\n",
       "      <th>1</th>\n",
       "      <td>United States</td>\n",
       "      <td>2016.0</td>\n",
       "      <td>150.807258</td>\n",
       "      <td>51.440915</td>\n",
       "      <td>11.729189</td>\n",
       "      <td>5.662213204002109%</td>\n",
       "      <td>1.880204</td>\n",
       "      <td>-0.545400</td>\n",
       "      <td>-0.358084</td>\n",
       "      <td>69.127267</td>\n",
       "      <td>111.980515</td>\n",
       "    </tr>\n",
       "    <tr>\n",
       "      <th>2</th>\n",
       "      <td>United States</td>\n",
       "      <td>2017.0</td>\n",
       "      <td>123.194502</td>\n",
       "      <td>70.386040</td>\n",
       "      <td>8.506676</td>\n",
       "      <td>2.1974693032602093%</td>\n",
       "      <td>2.398940</td>\n",
       "      <td>NaN</td>\n",
       "      <td>0.596245</td>\n",
       "      <td>83.555279</td>\n",
       "      <td>85.973903</td>\n",
       "    </tr>\n",
       "    <tr>\n",
       "      <th>4</th>\n",
       "      <td>United States</td>\n",
       "      <td>2019.0</td>\n",
       "      <td>110.461377</td>\n",
       "      <td>56.837048</td>\n",
       "      <td>NaN</td>\n",
       "      <td>3.700762468698007%</td>\n",
       "      <td>1.293249</td>\n",
       "      <td>1.961415</td>\n",
       "      <td>-0.879640</td>\n",
       "      <td>87.279612</td>\n",
       "      <td>90.702399</td>\n",
       "    </tr>\n",
       "    <tr>\n",
       "      <th>5</th>\n",
       "      <td>United States</td>\n",
       "      <td>2020.0</td>\n",
       "      <td>146.252228</td>\n",
       "      <td>71.819775</td>\n",
       "      <td>7.680612</td>\n",
       "      <td>4.233551396716399%</td>\n",
       "      <td>1.701554</td>\n",
       "      <td>5.756677</td>\n",
       "      <td>1.712965</td>\n",
       "      <td>88.184968</td>\n",
       "      <td>141.586188</td>\n",
       "    </tr>\n",
       "    <tr>\n",
       "      <th>...</th>\n",
       "      <td>...</td>\n",
       "      <td>...</td>\n",
       "      <td>...</td>\n",
       "      <td>...</td>\n",
       "      <td>...</td>\n",
       "      <td>...</td>\n",
       "      <td>...</td>\n",
       "      <td>...</td>\n",
       "      <td>...</td>\n",
       "      <td>...</td>\n",
       "      <td>...</td>\n",
       "    </tr>\n",
       "    <tr>\n",
       "      <th>263</th>\n",
       "      <td>Russia</td>\n",
       "      <td>2018.0</td>\n",
       "      <td>131.481735</td>\n",
       "      <td>75.146336</td>\n",
       "      <td>8.336558</td>\n",
       "      <td>2.3176193629251136%</td>\n",
       "      <td>3.042030</td>\n",
       "      <td>5.755299</td>\n",
       "      <td>-0.096533</td>\n",
       "      <td>79.702100</td>\n",
       "      <td>96.015205</td>\n",
       "    </tr>\n",
       "    <tr>\n",
       "      <th>273</th>\n",
       "      <td>Sweden</td>\n",
       "      <td>2015.0</td>\n",
       "      <td>111.130770</td>\n",
       "      <td>92.723365</td>\n",
       "      <td>9.445356</td>\n",
       "      <td>2.8631200036676687%</td>\n",
       "      <td>3.188069</td>\n",
       "      <td>-1.024911</td>\n",
       "      <td>-0.365977</td>\n",
       "      <td>80.433536</td>\n",
       "      <td>84.515068</td>\n",
       "    </tr>\n",
       "    <tr>\n",
       "      <th>285</th>\n",
       "      <td>Germany</td>\n",
       "      <td>2018.0</td>\n",
       "      <td>101.582103</td>\n",
       "      <td>93.602333</td>\n",
       "      <td>3.768127</td>\n",
       "      <td>1.7584086058430386%</td>\n",
       "      <td>3.953805</td>\n",
       "      <td>2.325081</td>\n",
       "      <td>1.231005</td>\n",
       "      <td>81.782740</td>\n",
       "      <td>148.068166</td>\n",
       "    </tr>\n",
       "    <tr>\n",
       "      <th>290</th>\n",
       "      <td>Italy</td>\n",
       "      <td>2017.0</td>\n",
       "      <td>102.359584</td>\n",
       "      <td>117.425578</td>\n",
       "      <td>3.109390</td>\n",
       "      <td>6.349394133538195%</td>\n",
       "      <td>0.780539</td>\n",
       "      <td>5.129145</td>\n",
       "      <td>0.846954</td>\n",
       "      <td>89.788944</td>\n",
       "      <td>75.903725</td>\n",
       "    </tr>\n",
       "    <tr>\n",
       "      <th>293</th>\n",
       "      <td>United States</td>\n",
       "      <td>2024.0</td>\n",
       "      <td>142.329813</td>\n",
       "      <td>73.162862</td>\n",
       "      <td>3.572025</td>\n",
       "      <td>3.054911608578311%</td>\n",
       "      <td>2.613692</td>\n",
       "      <td>3.836849</td>\n",
       "      <td>NaN</td>\n",
       "      <td>86.616382</td>\n",
       "      <td>107.777194</td>\n",
       "    </tr>\n",
       "  </tbody>\n",
       "</table>\n",
       "<p>164 rows × 11 columns</p>\n",
       "</div>"
      ],
      "text/plain": [
       "           country    year  house_price_index  rent_index  \\\n",
       "0    United States  2015.0         117.454012         NaN   \n",
       "1    United States  2016.0         150.807258   51.440915   \n",
       "2    United States  2017.0         123.194502   70.386040   \n",
       "4    United States  2019.0         110.461377   56.837048   \n",
       "5    United States  2020.0         146.252228   71.819775   \n",
       "..             ...     ...                ...         ...   \n",
       "263         Russia  2018.0         131.481735   75.146336   \n",
       "273         Sweden  2015.0         111.130770   92.723365   \n",
       "285        Germany  2018.0         101.582103   93.602333   \n",
       "290          Italy  2017.0         102.359584  117.425578   \n",
       "293  United States  2024.0         142.329813   73.162862   \n",
       "\n",
       "     affordability_ratio    mortgage_rate_(%)  inflation_rate_(%)  \\\n",
       "0               9.587945   4.493292420985183%                 NaN   \n",
       "1              11.729189   5.662213204002109%            1.880204   \n",
       "2               8.506676  2.1974693032602093%            2.398940   \n",
       "4                    NaN   3.700762468698007%            1.293249   \n",
       "5               7.680612   4.233551396716399%            1.701554   \n",
       "..                   ...                  ...                 ...   \n",
       "263             8.336558  2.3176193629251136%            3.042030   \n",
       "273             9.445356  2.8631200036676687%            3.188069   \n",
       "285             3.768127  1.7584086058430386%            3.953805   \n",
       "290             3.109390   6.349394133538195%            0.780539   \n",
       "293             3.572025   3.054911608578311%            2.613692   \n",
       "\n",
       "     gdp_growth_(%)  population_growth_(%)  urbanization_rate_(%)  \\\n",
       "0         -0.752044              -0.796707              85.985284   \n",
       "1         -0.545400              -0.358084              69.127267   \n",
       "2               NaN               0.596245              83.555279   \n",
       "4          1.961415              -0.879640              87.279612   \n",
       "5          5.756677               1.712965              88.184968   \n",
       "..              ...                    ...                    ...   \n",
       "263        5.755299              -0.096533              79.702100   \n",
       "273       -1.024911              -0.365977              80.433536   \n",
       "285        2.325081               1.231005              81.782740   \n",
       "290        5.129145               0.846954              89.788944   \n",
       "293        3.836849                    NaN              86.616382   \n",
       "\n",
       "     construction_index  \n",
       "0            118.089201  \n",
       "1            111.980515  \n",
       "2             85.973903  \n",
       "4             90.702399  \n",
       "5            141.586188  \n",
       "..                  ...  \n",
       "263           96.015205  \n",
       "273           84.515068  \n",
       "285          148.068166  \n",
       "290           75.903725  \n",
       "293          107.777194  \n",
       "\n",
       "[164 rows x 11 columns]"
      ]
     },
     "execution_count": 10,
     "metadata": {},
     "output_type": "execute_result"
    }
   ],
   "source": [
    "df.drop(index=df[df.duplicated(subset=['country', 'year'])].index, inplace=True)\n",
    "df"
   ]
  },
  {
   "cell_type": "code",
   "execution_count": 11,
   "id": "fba9bf77",
   "metadata": {},
   "outputs": [],
   "source": [
    "df=df.sort_values(by=['country', 'year']).reset_index(drop=True)"
   ]
  },
  {
   "cell_type": "code",
   "execution_count": 12,
   "id": "b6cc8544",
   "metadata": {},
   "outputs": [
    {
     "data": {
      "text/plain": [
       "<Axes: xlabel='house_price_index', ylabel='Count'>"
      ]
     },
     "execution_count": 12,
     "metadata": {},
     "output_type": "execute_result"
    },
    {
     "data": {
      "image/png": "[encoded data removed]",
      "text/plain": [
       "<Figure size 640x480 with 1 Axes>"
      ]
     },
     "metadata": {},
     "output_type": "display_data"
    }
   ],
   "source": [
    "import seaborn as sns\n",
    "sns.histplot(df['house_price_index'], bins=30, kde=True)"
   ]
  },
  {
   "cell_type": "code",
   "execution_count": 13,
   "id": "080d722b",
   "metadata": {},
   "outputs": [],
   "source": [
    "df['house_price_index'] = df['house_price_index'].fillna(df['house_price_index'].mean())"
   ]
  },
  {
   "cell_type": "code",
   "execution_count": 14,
   "id": "d74009a5",
   "metadata": {},
   "outputs": [
    {
     "data": {
      "text/plain": [
       "<Axes: xlabel='rent_index', ylabel='Count'>"
      ]
     },
     "execution_count": 14,
     "metadata": {},
     "output_type": "execute_result"
    },
    {
     "data": {
      "image/png": "[encoded data removed]",
      "text/plain": [
       "<Figure size 640x480 with 1 Axes>"
      ]
     },
     "metadata": {},
     "output_type": "display_data"
    }
   ],
   "source": [
    "sns.histplot(df['rent_index'], bins=30, kde=True)"
   ]
  },
  {
   "cell_type": "code",
   "execution_count": 15,
   "id": "9229b14e",
   "metadata": {},
   "outputs": [],
   "source": [
    "df['rent_index'] = df['rent_index'].fillna(df['rent_index'].median())"
   ]
  },
  {
   "cell_type": "code",
   "execution_count": 16,
   "id": "549db62c",
   "metadata": {},
   "outputs": [
    {
     "data": {
      "text/plain": [
       "<Axes: xlabel='affordability_ratio', ylabel='Count'>"
      ]
     },
     "execution_count": 16,
     "metadata": {},
     "output_type": "execute_result"
    },
    {
     "data": {
      "image/png": "[encoded data removed]",
      "text/plain": [
       "<Figure size 640x480 with 1 Axes>"
      ]
     },
     "metadata": {},
     "output_type": "display_data"
    }
   ],
   "source": [
    "sns.histplot(df['affordability_ratio'], bins=30, kde=True)"
   ]
  },
  {
   "cell_type": "code",
   "execution_count": 17,
   "id": "9c0ae4f2",
   "metadata": {},
   "outputs": [],
   "source": [
    "df['affordability_ratio'] = df['affordability_ratio'].fillna(df['affordability_ratio'].median())"
   ]
  },
  {
   "cell_type": "code",
   "execution_count": 18,
   "id": "1325b8c8",
   "metadata": {},
   "outputs": [
    {
     "data": {
      "text/plain": [
       "<Axes: xlabel='mortgage_rate_(%)', ylabel='Count'>"
      ]
     },
     "execution_count": 18,
     "metadata": {},
     "output_type": "execute_result"
    },
    {
     "data": {
      "image/png": "[encoded data removed]",
      "text/plain": [
       "<Figure size 640x480 with 1 Axes>"
      ]
     },
     "metadata": {},
     "output_type": "display_data"
    }
   ],
   "source": [
    "sns.histplot(df['mortgage_rate_(%)'], bins=30, kde=True)"
   ]
  },
  {
   "cell_type": "code",
   "execution_count": 19,
   "id": "13c27b59",
   "metadata": {},
   "outputs": [],
   "source": [
    "df['mortgage_rate_(%)']=df['mortgage_rate_(%)'].str.rstrip(\"%\")\n",
    "df['mortgage_rate_(%)'] = pd.to_numeric(df['mortgage_rate_(%)'], errors='coerce')\n",
    "df['mortgage_rate_(%)'] = df['mortgage_rate_(%)'].fillna(df['mortgage_rate_(%)'].median())\n",
    "df['mortgage_rate_(%)']=df['mortgage_rate_(%)'].astype(str) + '%'"
   ]
  },
  {
   "cell_type": "code",
   "execution_count": 20,
   "id": "fd0b5216",
   "metadata": {},
   "outputs": [
    {
     "data": {
      "text/plain": [
       "<Axes: xlabel='inflation_rate_(%)', ylabel='Count'>"
      ]
     },
     "execution_count": 20,
     "metadata": {},
     "output_type": "execute_result"
    },
    {
     "data": {
      "image/png": "[encoded data removed]",
      "text/plain": [
       "<Figure size 640x480 with 1 Axes>"
      ]
     },
     "metadata": {},
     "output_type": "display_data"
    }
   ],
   "source": [
    "sns.histplot(df['inflation_rate_(%)'], bins=30, kde=True)"
   ]
  },
  {
   "cell_type": "code",
   "execution_count": 21,
   "id": "1afc39fc",
   "metadata": {},
   "outputs": [],
   "source": [
    "df['inflation_rate_(%)'] = df['inflation_rate_(%)'].fillna(df['inflation_rate_(%)'].median())\n",
    "df['inflation_rate_(%)']=df['inflation_rate_(%)'].astype(str) + '%'"
   ]
  },
  {
   "cell_type": "code",
   "execution_count": 22,
   "id": "789408d3",
   "metadata": {},
   "outputs": [
    {
     "data": {
      "text/plain": [
       "<Axes: xlabel='gdp_growth_(%)', ylabel='Count'>"
      ]
     },
     "execution_count": 22,
     "metadata": {},
     "output_type": "execute_result"
    },
    {
     "data": {
      "image/png": "[encoded data removed]",
      "text/plain": [
       "<Figure size 640x480 with 1 Axes>"
      ]
     },
     "metadata": {},
     "output_type": "display_data"
    }
   ],
   "source": [
    "sns.histplot(df['gdp_growth_(%)'], bins=30, kde=True)"
   ]
  },
  {
   "cell_type": "code",
   "execution_count": 23,
   "id": "7a333e28",
   "metadata": {},
   "outputs": [],
   "source": [
    "df['gdp_growth_(%)'] = df['gdp_growth_(%)'].fillna(df['gdp_growth_(%)'].median())\n",
    "df['gdp_growth_(%)']=df['gdp_growth_(%)'].astype(str) + '%'"
   ]
  },
  {
   "cell_type": "code",
   "execution_count": 24,
   "id": "c669d526",
   "metadata": {},
   "outputs": [
    {
     "data": {
      "text/plain": [
       "<Axes: xlabel='population_growth_(%)', ylabel='Count'>"
      ]
     },
     "execution_count": 24,
     "metadata": {},
     "output_type": "execute_result"
    },
    {
     "data": {
      "image/png": "[encoded data removed]",
      "text/plain": [
       "<Figure size 640x480 with 1 Axes>"
      ]
     },
     "metadata": {},
     "output_type": "display_data"
    }
   ],
   "source": [
    "sns.histplot(df['population_growth_(%)'], bins=30, kde=True)"
   ]
  },
  {
   "cell_type": "code",
   "execution_count": 25,
   "id": "d9ec9673",
   "metadata": {},
   "outputs": [],
   "source": [
    "df['population_growth_(%)'] = df['population_growth_(%)'].fillna(df['population_growth_(%)'].median())\n",
    "df['population_growth_(%)']=df['population_growth_(%)'].astype(str) + '%'"
   ]
  },
  {
   "cell_type": "code",
   "execution_count": 26,
   "id": "d89385fe",
   "metadata": {},
   "outputs": [
    {
     "data": {
      "text/plain": [
       "<Axes: xlabel='urbanization_rate_(%)', ylabel='Count'>"
      ]
     },
     "execution_count": 26,
     "metadata": {},
     "output_type": "execute_result"
    },
    {
     "data": {
      "image/png": "[encoded data removed]",
      "text/plain": [
       "<Figure size 640x480 with 1 Axes>"
      ]
     },
     "metadata": {},
     "output_type": "display_data"
    }
   ],
   "source": [
    "sns.histplot(df['urbanization_rate_(%)'], bins=30, kde=True)"
   ]
  },
  {
   "cell_type": "code",
   "execution_count": 27,
   "id": "2337e5b9",
   "metadata": {},
   "outputs": [],
   "source": [
    "df['urbanization_rate_(%)'] = df['urbanization_rate_(%)'].fillna(df['urbanization_rate_(%)'].median())\n",
    "df['urbanization_rate_(%)']=df['urbanization_rate_(%)'].astype(str) + '%'"
   ]
  },
  {
   "cell_type": "code",
   "execution_count": 28,
   "id": "9d794adb",
   "metadata": {},
   "outputs": [
    {
     "data": {
      "text/plain": [
       "<Axes: xlabel='construction_index', ylabel='Count'>"
      ]
     },
     "execution_count": 28,
     "metadata": {},
     "output_type": "execute_result"
    },
    {
     "data": {
      "image/png": "[encoded data removed]",
      "text/plain": [
       "<Figure size 640x480 with 1 Axes>"
      ]
     },
     "metadata": {},
     "output_type": "display_data"
    }
   ],
   "source": [
    "sns.histplot(df['construction_index'], bins=30, kde=True)"
   ]
  },
  {
   "cell_type": "code",
   "execution_count": 29,
   "id": "bd0e3c58",
   "metadata": {},
   "outputs": [],
   "source": [
    "df['construction_index'] = df['construction_index'].fillna(df['construction_index'].median())"
   ]
  },
  {
   "cell_type": "code",
   "execution_count": 30,
   "id": "5609e872",
   "metadata": {},
   "outputs": [
    {
     "data": {
      "text/plain": [
       "Index([], dtype='object')"
      ]
     },
     "execution_count": 30,
     "metadata": {},
     "output_type": "execute_result"
    }
   ],
   "source": [
    "df.columns[df.isnull().any()]"
   ]
  },
  {
   "cell_type": "code",
   "execution_count": 31,
   "id": "45124089",
   "metadata": {},
   "outputs": [
    {
     "data": {
      "text/html": [
       "<div>\n",
       "<style scoped>\n",
       "    .dataframe tbody tr th:only-of-type {\n",
       "        vertical-align: middle;\n",
       "    }\n",
       "\n",
       "    .dataframe tbody tr th {\n",
       "        vertical-align: top;\n",
       "    }\n",
       "\n",
       "    .dataframe thead th {\n",
       "        text-align: right;\n",
       "    }\n",
       "</style>\n",
       "<table border=\"1\" class=\"dataframe\">\n",
       "  <thead>\n",
       "    <tr style=\"text-align: right;\">\n",
       "      <th></th>\n",
       "      <th>country</th>\n",
       "      <th>year</th>\n",
       "      <th>house_price_index</th>\n",
       "      <th>rent_index</th>\n",
       "      <th>affordability_ratio</th>\n",
       "      <th>mortgage_rate_(%)</th>\n",
       "      <th>inflation_rate_(%)</th>\n",
       "      <th>gdp_growth_(%)</th>\n",
       "      <th>population_growth_(%)</th>\n",
       "      <th>urbanization_rate_(%)</th>\n",
       "      <th>construction_index</th>\n",
       "    </tr>\n",
       "  </thead>\n",
       "  <tbody>\n",
       "    <tr>\n",
       "      <th>0</th>\n",
       "      <td>Australia</td>\n",
       "      <td>2015.0</td>\n",
       "      <td>151.334959</td>\n",
       "      <td>112.664479</td>\n",
       "      <td>7.605097</td>\n",
       "      <td>4.160567426326578%</td>\n",
       "      <td>1.1966180737085443%</td>\n",
       "      <td>1.5792989345876371%</td>\n",
       "      <td>0.6460270229564072%</td>\n",
       "      <td>67.27411510904189%</td>\n",
       "      <td>91.539458</td>\n",
       "    </tr>\n",
       "    <tr>\n",
       "      <th>1</th>\n",
       "      <td>Australia</td>\n",
       "      <td>2016.0</td>\n",
       "      <td>129.358539</td>\n",
       "      <td>51.404984</td>\n",
       "      <td>5.898712</td>\n",
       "      <td>2.557240034982723%</td>\n",
       "      <td>2.6287327891564454%</td>\n",
       "      <td>-1.0419029454459905%</td>\n",
       "      <td>2.1168454825896323%</td>\n",
       "      <td>77.80777360662145%</td>\n",
       "      <td>124.328186</td>\n",
       "    </tr>\n",
       "    <tr>\n",
       "      <th>2</th>\n",
       "      <td>Australia</td>\n",
       "      <td>2017.0</td>\n",
       "      <td>158.917124</td>\n",
       "      <td>84.890954</td>\n",
       "      <td>3.782283</td>\n",
       "      <td>4.185532709092739%</td>\n",
       "      <td>4.314467267135715%</td>\n",
       "      <td>3.96351579347464%</td>\n",
       "      <td>0.5108084118038778%</td>\n",
       "      <td>63.82740908386691%</td>\n",
       "      <td>92.702072</td>\n",
       "    </tr>\n",
       "    <tr>\n",
       "      <th>3</th>\n",
       "      <td>Australia</td>\n",
       "      <td>2018.0</td>\n",
       "      <td>116.308230</td>\n",
       "      <td>95.214207</td>\n",
       "      <td>8.137005</td>\n",
       "      <td>3.2804836294892312%</td>\n",
       "      <td>6.912349117154368%</td>\n",
       "      <td>2.846198554855097%</td>\n",
       "      <td>-0.1697062289240193%</td>\n",
       "      <td>63.05347417861211%</td>\n",
       "      <td>82.228731</td>\n",
       "    </tr>\n",
       "    <tr>\n",
       "      <th>4</th>\n",
       "      <td>Australia</td>\n",
       "      <td>2019.0</td>\n",
       "      <td>104.595773</td>\n",
       "      <td>61.247696</td>\n",
       "      <td>4.679103</td>\n",
       "      <td>2.9254758434692354%</td>\n",
       "      <td>3.823725592596096%</td>\n",
       "      <td>5.174123397011401%</td>\n",
       "      <td>-0.7191818901842523%</td>\n",
       "      <td>75.73534168710763%</td>\n",
       "      <td>102.831746</td>\n",
       "    </tr>\n",
       "    <tr>\n",
       "      <th>...</th>\n",
       "      <td>...</td>\n",
       "      <td>...</td>\n",
       "      <td>...</td>\n",
       "      <td>...</td>\n",
       "      <td>...</td>\n",
       "      <td>...</td>\n",
       "      <td>...</td>\n",
       "      <td>...</td>\n",
       "      <td>...</td>\n",
       "      <td>...</td>\n",
       "      <td>...</td>\n",
       "    </tr>\n",
       "    <tr>\n",
       "      <th>159</th>\n",
       "      <td>United States</td>\n",
       "      <td>2020.0</td>\n",
       "      <td>146.252228</td>\n",
       "      <td>71.819775</td>\n",
       "      <td>7.680612</td>\n",
       "      <td>4.233551396716399%</td>\n",
       "      <td>1.7015539609159258%</td>\n",
       "      <td>5.7566770221164685%</td>\n",
       "      <td>1.712964881763901%</td>\n",
       "      <td>88.18496824692568%</td>\n",
       "      <td>141.586188</td>\n",
       "    </tr>\n",
       "    <tr>\n",
       "      <th>160</th>\n",
       "      <td>United States</td>\n",
       "      <td>2021.0</td>\n",
       "      <td>139.789998</td>\n",
       "      <td>114.531196</td>\n",
       "      <td>3.796433</td>\n",
       "      <td>2.479914312095726%</td>\n",
       "      <td>0.7939773779184974%</td>\n",
       "      <td>0.6026426461061147%</td>\n",
       "      <td>0.360370513913187%</td>\n",
       "      <td>68.14047095321688%</td>\n",
       "      <td>136.299001</td>\n",
       "    </tr>\n",
       "    <tr>\n",
       "      <th>161</th>\n",
       "      <td>United States</td>\n",
       "      <td>2022.0</td>\n",
       "      <td>115.675333</td>\n",
       "      <td>69.665416</td>\n",
       "      <td>7.884265</td>\n",
       "      <td>2.204621124873813%</td>\n",
       "      <td>5.714280374901258%</td>\n",
       "      <td>-1.4035948505618334%</td>\n",
       "      <td>2.4541042781018105%</td>\n",
       "      <td>83.16734307889972%</td>\n",
       "      <td>85.897255</td>\n",
       "    </tr>\n",
       "    <tr>\n",
       "      <th>162</th>\n",
       "      <td>United States</td>\n",
       "      <td>2023.0</td>\n",
       "      <td>129.358539</td>\n",
       "      <td>80.029582</td>\n",
       "      <td>9.361716</td>\n",
       "      <td>5.145035840204937%</td>\n",
       "      <td>5.513257253458647%</td>\n",
       "      <td>-1.4076427861272771%</td>\n",
       "      <td>0.2546300499049541%</td>\n",
       "      <td>63.47607178575389%</td>\n",
       "      <td>139.048274</td>\n",
       "    </tr>\n",
       "    <tr>\n",
       "      <th>163</th>\n",
       "      <td>United States</td>\n",
       "      <td>2024.0</td>\n",
       "      <td>142.329813</td>\n",
       "      <td>73.162862</td>\n",
       "      <td>3.572025</td>\n",
       "      <td>3.054911608578311%</td>\n",
       "      <td>2.613691593173856%</td>\n",
       "      <td>3.836849426704513%</td>\n",
       "      <td>0.6460270229564072%</td>\n",
       "      <td>86.6163822772898%</td>\n",
       "      <td>107.777194</td>\n",
       "    </tr>\n",
       "  </tbody>\n",
       "</table>\n",
       "<p>164 rows × 11 columns</p>\n",
       "</div>"
      ],
      "text/plain": [
       "           country    year  house_price_index  rent_index  \\\n",
       "0        Australia  2015.0         151.334959  112.664479   \n",
       "1        Australia  2016.0         129.358539   51.404984   \n",
       "2        Australia  2017.0         158.917124   84.890954   \n",
       "3        Australia  2018.0         116.308230   95.214207   \n",
       "4        Australia  2019.0         104.595773   61.247696   \n",
       "..             ...     ...                ...         ...   \n",
       "159  United States  2020.0         146.252228   71.819775   \n",
       "160  United States  2021.0         139.789998  114.531196   \n",
       "161  United States  2022.0         115.675333   69.665416   \n",
       "162  United States  2023.0         129.358539   80.029582   \n",
       "163  United States  2024.0         142.329813   73.162862   \n",
       "\n",
       "     affordability_ratio    mortgage_rate_(%)   inflation_rate_(%)  \\\n",
       "0               7.605097   4.160567426326578%  1.1966180737085443%   \n",
       "1               5.898712   2.557240034982723%  2.6287327891564454%   \n",
       "2               3.782283   4.185532709092739%   4.314467267135715%   \n",
       "3               8.137005  3.2804836294892312%   6.912349117154368%   \n",
       "4               4.679103  2.9254758434692354%   3.823725592596096%   \n",
       "..                   ...                  ...                  ...   \n",
       "159             7.680612   4.233551396716399%  1.7015539609159258%   \n",
       "160             3.796433   2.479914312095726%  0.7939773779184974%   \n",
       "161             7.884265   2.204621124873813%   5.714280374901258%   \n",
       "162             9.361716   5.145035840204937%   5.513257253458647%   \n",
       "163             3.572025   3.054911608578311%   2.613691593173856%   \n",
       "\n",
       "           gdp_growth_(%) population_growth_(%) urbanization_rate_(%)  \\\n",
       "0     1.5792989345876371%   0.6460270229564072%    67.27411510904189%   \n",
       "1    -1.0419029454459905%   2.1168454825896323%    77.80777360662145%   \n",
       "2       3.96351579347464%   0.5108084118038778%    63.82740908386691%   \n",
       "3      2.846198554855097%  -0.1697062289240193%    63.05347417861211%   \n",
       "4      5.174123397011401%  -0.7191818901842523%    75.73534168710763%   \n",
       "..                    ...                   ...                   ...   \n",
       "159   5.7566770221164685%    1.712964881763901%    88.18496824692568%   \n",
       "160   0.6026426461061147%    0.360370513913187%    68.14047095321688%   \n",
       "161  -1.4035948505618334%   2.4541042781018105%    83.16734307889972%   \n",
       "162  -1.4076427861272771%   0.2546300499049541%    63.47607178575389%   \n",
       "163    3.836849426704513%   0.6460270229564072%     86.6163822772898%   \n",
       "\n",
       "     construction_index  \n",
       "0             91.539458  \n",
       "1            124.328186  \n",
       "2             92.702072  \n",
       "3             82.228731  \n",
       "4            102.831746  \n",
       "..                  ...  \n",
       "159          141.586188  \n",
       "160          136.299001  \n",
       "161           85.897255  \n",
       "162          139.048274  \n",
       "163          107.777194  \n",
       "\n",
       "[164 rows x 11 columns]"
      ]
     },
     "execution_count": 31,
     "metadata": {},
     "output_type": "execute_result"
    }
   ],
   "source": [
    "df"
   ]
  },
  {
   "cell_type": "code",
   "execution_count": null,
   "id": "414280d6",
   "metadata": {},
   "outputs": [],
   "source": []
  }
 ],
 "metadata": {
  "kernelspec": {
   "display_name": "Python 3",
   "language": "python",
   "name": "python3"
  },
  "language_info": {
   "codemirror_mode": {
    "name": "ipython",
    "version": 3
   },
   "file_extension": ".py",
   "mimetype": "text/x-python",
   "name": "python",
   "nbconvert_exporter": "python",
   "pygments_lexer": "ipython3",
   "version": "3.13.2"
  }
 },
 "nbformat": 4,
 "nbformat_minor": 5
}
